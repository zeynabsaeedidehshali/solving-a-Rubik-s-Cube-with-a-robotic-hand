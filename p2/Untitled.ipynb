{
 "cells": [
  {
   "cell_type": "code",
   "execution_count": 41,
   "metadata": {},
   "outputs": [],
   "source": [
    "from __future__ import print_function\n",
    "import numpy as np\n",
    "from random import randint"
   ]
  },
  {
   "cell_type": "code",
   "execution_count": 2,
   "metadata": {},
   "outputs": [],
   "source": [
    "'''\n",
    "sticker indices:\n",
    "       ┌──┬──┐\n",
    "       │ 0│ 1│\n",
    "       ├──┼──┤\n",
    "       │ 2│ 3│\n",
    " ┌──┬──┼──┼──┼──┬──┬──┬──┐\n",
    " │16│17│ 8│ 9│ 4│ 5│20│21│\n",
    " ├──┼──┼──┼──┼──┼──┼──┼──┤\n",
    " │18│19│10│11│ 6│ 7│22│23│\n",
    " └──┴──┼──┼──┼──┴──┴──┴──┘\n",
    "       │12│13│\n",
    "       ├──┼──┤\n",
    "       │14│15│\n",
    "       └──┴──┘\n",
    "\n",
    "face colors:\n",
    "    ┌──┐\n",
    "    │ 0│\n",
    " ┌──┼──┼──┬──┐\n",
    " │ 4│ 2│ 1│ 5│\n",
    " └──┼──┼──┴──┘\n",
    "    │ 3│\n",
    "    └──┘\n",
    "\n",
    "moves:\n",
    "[ U , U', U2, R , R', R2, F , F', F2, D , D', D2, L , L', L2, B , B', B2, x , x', \n",
    "x2, y , y', y2, z , z', z2]\n",
    "\n",
    "'''\n",
    "# move indices\n",
    "moveInds = { \\\n",
    "  \"U\": 0, \"U'\": 1, \"U2\": 2, \"R\": 3, \"R'\": 4, \"R2\": 5, \"F\": 6, \"F'\": 7, \"F2\": 8, \\\n",
    "  \"D\": 9, \"D'\": 10, \"D2\": 11, \"L\": 12, \"L'\": 13, \"L2\": 14, \"B\": 15, \"B'\": 16, \"B2\": 17, \\\n",
    "  \"x\": 18, \"x'\": 19, \"x2\": 20, \"y\": 21, \"y'\": 22, \"y2\": 23, \"z\": 24, \"z'\": 25, \"z2\": 26 \\\n",
    "}\n",
    "\n",
    "# move definitions\n",
    "moveDefs = np.array([ \\\n",
    "  [  2,  0,  3,  1, 20, 21,  6,  7,  4,  5, 10, 11, 12, 13, 14, 15,  8,  9, 18, 19, 16, 17, 22, 23], \\\n",
    "  [  1,  3,  0,  2,  8,  9,  6,  7, 16, 17, 10, 11, 12, 13, 14, 15, 20, 21, 18, 19,  4,  5, 22, 23], \\\n",
    "  [  3,  2,  1,  0, 16, 17,  6,  7, 20, 21, 10, 11, 12, 13, 14, 15,  4,  5, 18, 19,  8,  9, 22, 23], \\\n",
    "  [  0,  9,  2, 11,  6,  4,  7,  5,  8, 13, 10, 15, 12, 22, 14, 20, 16, 17, 18, 19,  3, 21,  1, 23], \\\n",
    "  [  0, 22,  2, 20,  5,  7,  4,  6,  8,  1, 10,  3, 12,  9, 14, 11, 16, 17, 18, 19, 15, 21, 13, 23], \\\n",
    "  [  0, 13,  2, 15,  7,  6,  5,  4,  8, 22, 10, 20, 12,  1, 14,  3, 16, 17, 18, 19, 11, 21,  9, 23], \\\n",
    "  [  0,  1, 19, 17,  2,  5,  3,  7, 10,  8, 11,  9,  6,  4, 14, 15, 16, 12, 18, 13, 20, 21, 22, 23], \\\n",
    "  [  0,  1,  4,  6, 13,  5, 12,  7,  9, 11,  8, 10, 17, 19, 14, 15, 16,  3, 18,  2, 20, 21, 22, 23], \\\n",
    "  [  0,  1, 13, 12, 19,  5, 17,  7, 11, 10,  9,  8,  3,  2, 14, 15, 16,  6, 18,  4, 20, 21, 22, 23], \\\n",
    "  [  0,  1,  2,  3,  4,  5, 10, 11,  8,  9, 18, 19, 14, 12, 15, 13, 16, 17, 22, 23, 20, 21,  6,  7], \\\n",
    "  [  0,  1,  2,  3,  4,  5, 22, 23,  8,  9,  6,  7, 13, 15, 12, 14, 16, 17, 10, 11, 20, 21, 18, 19], \\\n",
    "  [  0,  1,  2,  3,  4,  5, 18, 19,  8,  9, 22, 23, 15, 14, 13, 12, 16, 17,  6,  7, 20, 21, 10, 11], \\\n",
    "  [ 23,  1, 21,  3,  4,  5,  6,  7,  0,  9,  2, 11,  8, 13, 10, 15, 18, 16, 19, 17, 20, 14, 22, 12], \\\n",
    "  [  8,  1, 10,  3,  4,  5,  6,  7, 12,  9, 14, 11, 23, 13, 21, 15, 17, 19, 16, 18, 20,  2, 22,  0], \\\n",
    "  [ 12,  1, 14,  3,  4,  5,  6,  7, 23,  9, 21, 11,  0, 13,  2, 15, 19, 18, 17, 16, 20, 10, 22,  8], \\\n",
    "  [  5,  7,  2,  3,  4, 15,  6, 14,  8,  9, 10, 11, 12, 13, 16, 18,  1, 17,  0, 19, 22, 20, 23, 21], \\\n",
    "  [ 18, 16,  2,  3,  4,  0,  6,  1,  8,  9, 10, 11, 12, 13,  7,  5, 14, 17, 15, 19, 21, 23, 20, 22], \\\n",
    "  [ 15, 14,  2,  3,  4, 18,  6, 16,  8,  9, 10, 11, 12, 13,  1,  0,  7, 17,  5, 19, 23, 22, 21, 20], \\\n",
    "  [  8,  9, 10, 11,  6,  4,  7,  5, 12, 13, 14, 15, 23, 22, 21, 20, 17, 19, 16, 18,  3,  2,  1,  0], \\\n",
    "  [ 23, 22, 21, 20,  5,  7,  4,  6,  0,  1,  2,  3,  8,  9, 10, 11, 18, 16, 19, 17, 15, 14, 13, 12], \\\n",
    "  [ 12, 13, 14, 15,  7,  6,  5,  4, 23, 22, 21, 20,  0,  1,  2,  3, 19, 18, 17, 16, 11, 10,  9,  8], \\\n",
    "  [  2,  0,  3,  1, 20, 21, 22, 23,  4,  5,  6,  7, 13, 15, 12, 14,  8,  9, 10, 11, 16, 17, 18, 19], \\\n",
    "  [  1,  3,  0,  2,  8,  9, 10, 11, 16, 17, 18, 19, 14, 12, 15, 13, 20, 21, 22, 23,  4,  5,  6,  7], \\\n",
    "  [  3,  2,  1,  0, 16, 17, 18, 19, 20, 21, 22, 23, 15, 14, 13, 12,  4,  5,  6,  7,  8,  9, 10, 11], \\\n",
    "  [ 18, 16, 19, 17,  2,  0,  3,  1, 10,  8, 11,  9,  6,  4,  7,  5, 14, 12, 15, 13, 21, 23, 20, 22], \\\n",
    "  [  5,  7,  4,  6, 13, 15, 12, 14,  9, 11,  8, 10, 17, 19, 16, 18,  1,  3,  0,  2, 22, 20, 23, 21], \\\n",
    "  [ 15, 14, 13, 12, 19, 18, 17, 16, 11, 10,  9,  8,  3,  2,  1,  0,  7,  6,  5,  4, 23, 22, 21, 20]  \\\n",
    "])\n"
   ]
  },
  {
   "cell_type": "code",
   "execution_count": 3,
   "metadata": {},
   "outputs": [],
   "source": [
    "# piece definitions\n",
    "pieceDefs = np.array([ \\\n",
    "  [  0, 21, 16], \\\n",
    "  [  2, 17,  8], \\\n",
    "  [  3,  9,  4], \\\n",
    "  [  1,  5, 20], \\\n",
    "  [ 12, 10, 19], \\\n",
    "  [ 13,  6, 11], \\\n",
    "  [ 15, 22,  7], \\\n",
    "])"
   ]
  },
  {
   "cell_type": "code",
   "execution_count": 4,
   "metadata": {},
   "outputs": [],
   "source": [
    "# OP representation from (hashed) piece stickers\n",
    "pieceInds = np.zeros([58, 2], dtype=int)\n",
    "pieceInds[50] = [0, 0]; pieceInds[54] = [0, 1]; pieceInds[13] = [0, 2]\n",
    "pieceInds[28] = [1, 0]; pieceInds[42] = [1, 1]; pieceInds[ 8] = [1, 2]\n",
    "pieceInds[14] = [2, 0]; pieceInds[21] = [2, 1]; pieceInds[ 4] = [2, 2]\n",
    "pieceInds[52] = [3, 0]; pieceInds[15] = [3, 1]; pieceInds[11] = [3, 2]\n",
    "pieceInds[47] = [4, 0]; pieceInds[30] = [4, 1]; pieceInds[40] = [4, 2]\n",
    "pieceInds[25] = [5, 0]; pieceInds[18] = [5, 1]; pieceInds[35] = [5, 2]\n",
    "pieceInds[23] = [6, 0]; pieceInds[57] = [6, 1]; pieceInds[37] = [6, 2]"
   ]
  },
  {
   "cell_type": "code",
   "execution_count": 5,
   "metadata": {},
   "outputs": [],
   "source": [
    "# piece stickers from OP representation\n",
    "pieceCols = np.zeros([7, 3, 3], dtype=int)\n",
    "pieceCols[0, 0, :] = [0, 5, 4]; pieceCols[0, 1, :] = [4, 0, 5]; pieceCols[0, 2, :] = [5, 4, 0]\n",
    "pieceCols[1, 0, :] = [0, 4, 2]; pieceCols[1, 1, :] = [2, 0, 4]; pieceCols[1, 2, :] = [4, 2, 0]\n",
    "pieceCols[2, 0, :] = [0, 2, 1]; pieceCols[2, 1, :] = [1, 0, 2]; pieceCols[2, 2, :] = [2, 1, 0]\n",
    "pieceCols[3, 0, :] = [0, 1, 5]; pieceCols[3, 1, :] = [5, 0, 1]; pieceCols[3, 2, :] = [1, 5, 0]\n",
    "pieceCols[4, 0, :] = [3, 2, 4]; pieceCols[4, 1, :] = [4, 3, 2]; pieceCols[4, 2, :] = [2, 4, 3]\n",
    "pieceCols[5, 0, :] = [3, 1, 2]; pieceCols[5, 1, :] = [2, 3, 1]; pieceCols[5, 2, :] = [1, 2, 3]\n",
    "pieceCols[6, 0, :] = [3, 5, 1]; pieceCols[6, 1, :] = [1, 3, 5]; pieceCols[6, 2, :] = [5, 1, 3]"
   ]
  },
  {
   "cell_type": "code",
   "execution_count": 6,
   "metadata": {},
   "outputs": [],
   "source": [
    "# useful arrays for hashing\n",
    "hashOP = np.array([1, 2, 10])\n",
    "pow3 = np.array([1, 3, 9, 27, 81, 243])\n",
    "pow7 = np.array([1, 7, 49, 343, 2401, 16807])\n",
    "fact6 = np.array([720, 120, 24, 6, 2, 1])"
   ]
  },
  {
   "cell_type": "code",
   "execution_count": 7,
   "metadata": {},
   "outputs": [],
   "source": [
    "# get FC-normalized solved state\n",
    "def initState():\n",
    "  return np.array([0, 0, 0, 0, 1, 1, 1, 1, 2, 2, 2, 2, 3, 3, 3, 3, 4, 4, 4, 4, 5, 5, 5, 5])"
   ]
  },
  {
   "cell_type": "code",
   "execution_count": 8,
   "metadata": {},
   "outputs": [],
   "source": [
    "# apply a move to a state\n",
    "def doMove(s, move):\n",
    "  return s[moveDefs[move]]"
   ]
  },
  {
   "cell_type": "code",
   "execution_count": 10,
   "metadata": {},
   "outputs": [],
   "source": [
    "# apply a string sequence of moves to a state\n",
    "def doAlgStr(s, alg):\n",
    "  moves = alg.split(\" \")\n",
    "  for m in moves:\n",
    "    if m in moveInds:\n",
    "      s = doMove(s, moveInds[m])\n",
    "  return s"
   ]
  },
  {
   "cell_type": "code",
   "execution_count": 11,
   "metadata": {},
   "outputs": [],
   "source": [
    "# check if state is solved\n",
    "def isSolved(s):\n",
    "  for i in range(6):\n",
    "    if not (s[4 * i:4 * i + 4] == s[4 * i]).all():\n",
    "      return False\n",
    "  return True"
   ]
  },
  {
   "cell_type": "code",
   "execution_count": 12,
   "metadata": {},
   "outputs": [],
   "source": [
    "# normalize stickers relative to a fixed DLB corner\n",
    "def normFC(s):\n",
    "  normCols = np.zeros(6, dtype=int)\n",
    "  normCols[s[18] - 3] = 1\n",
    "  normCols[s[23] - 3] = 2\n",
    "  normCols[s[14]] = 3\n",
    "  normCols[s[18]] = 4\n",
    "  normCols[s[23]] = 5\n",
    "  return normCols[s]"
   ]
  },
  {
   "cell_type": "code",
   "execution_count": 13,
   "metadata": {},
   "outputs": [],
   "source": [
    "# get OP representation given FC-normalized sticker representation\n",
    "def getOP(s):\n",
    "  return pieceInds[np.dot(s[pieceDefs], hashOP)]"
   ]
  },
  {
   "cell_type": "code",
   "execution_count": 14,
   "metadata": {},
   "outputs": [],
   "source": [
    "# get sticker representation from OP representation\n",
    "def getStickers(sOP):\n",
    "  s = np.zeros(24, dtype=nint)\n",
    "  s[[14, 18, 23]] = [3, 4, 5]\n",
    "  for i in range(7):\n",
    "    s[pieceDefs[i]] = pieceCols[sOP[i, 0], sOP[i, 1], :]\n",
    "  return s"
   ]
  },
  {
   "cell_type": "code",
   "execution_count": 15,
   "metadata": {},
   "outputs": [],
   "source": [
    "# get a unique index for the piece orientation state (0-728)\n",
    "def indexO(sOP):\n",
    "  return np.dot(sOP[:-1, 1], pow3)"
   ]
  },
  {
   "cell_type": "code",
   "execution_count": 16,
   "metadata": {},
   "outputs": [],
   "source": [
    "# get a unique index for the piece permutation state (0-117648)\n",
    "def indexP(sOP):\n",
    "  return np.dot(sOP[:-1, 0], pow7)"
   ]
  },
  {
   "cell_type": "code",
   "execution_count": 17,
   "metadata": {},
   "outputs": [],
   "source": [
    "# get a (gap-free) unique index for the piece permutation state (0-5039)\n",
    "def indexP2(sOP):\n",
    "  return np.dot([sOP[i, 0] - np.count_nonzero(sOP[:i, 0] < sOP[i, 0]) for i in range(6)], fact6)\n",
    "  '''\n",
    "  ps = np.arange(7)\n",
    "  P = 0\n",
    "  for i, p in enumerate(sOP[:, 0]):\n",
    "    P += fact6[i] * np.where(ps == p)[0][0]\n",
    "    ps = ps[ps != p]\n",
    "  return P\n",
    "  '''"
   ]
  },
  {
   "cell_type": "code",
   "execution_count": 18,
   "metadata": {},
   "outputs": [],
   "source": [
    "# get a unique index for the piece orientation and permutation state (0-3674159)\n",
    "def indexOP(sOP):\n",
    "  return indexO(sOP) * 5040 + indexP2(sOP)"
   ]
  },
  {
   "cell_type": "code",
   "execution_count": 19,
   "metadata": {},
   "outputs": [],
   "source": [
    "\n",
    "# print state of the cube\n",
    "def printCube(s):\n",
    "  print(\"      ┌──┬──┐\")\n",
    "  print(\"      │ {}│ {}│\".format(s[0], s[1]))\n",
    "  print(\"      ├──┼──┤\")\n",
    "  print(\"      │ {}│ {}│\".format(s[2], s[3]))\n",
    "  print(\"┌──┬──┼──┼──┼──┬──┬──┬──┐\")\n",
    "  print(\"│ {}│ {}│ {}│ {}│ {}│ {}│ {}│ {}│\".format(s[16], s[17], s[8], s[9], s[4], s[5], s[20], s[21]))\n",
    "  print(\"├──┼──┼──┼──┼──┼──┼──┼──┤\")\n",
    "  print(\"│ {}│ {}│ {}│ {}│ {}│ {}│ {}│ {}│\".format(s[18], s[19], s[10], s[11], s[6], s[7], s[22], s[23]))\n",
    "  print(\"└──┴──┼──┼──┼──┴──┴──┴──┘\")\n",
    "  print(\"      │ {}│ {}│\".format(s[12], s[13]))\n",
    "  print(\"      ├──┼──┤\")\n",
    "  print(\"      │ {}│ {}│\".format(s[14], s[15]))\n",
    "  print(\"      └──┴──┘\")"
   ]
  },
  {
   "cell_type": "code",
   "execution_count": 20,
   "metadata": {},
   "outputs": [
    {
     "name": "stdout",
     "output_type": "stream",
     "text": [
      "      ┌──┬──┐\n",
      "      │ 0│ 0│\n",
      "      ├──┼──┤\n",
      "      │ 0│ 0│\n",
      "┌──┬──┼──┼──┼──┬──┬──┬──┐\n",
      "│ 4│ 4│ 2│ 2│ 1│ 1│ 5│ 5│\n",
      "├──┼──┼──┼──┼──┼──┼──┼──┤\n",
      "│ 4│ 4│ 2│ 2│ 1│ 1│ 5│ 5│\n",
      "└──┴──┼──┼──┼──┴──┴──┴──┘\n",
      "      │ 3│ 3│\n",
      "      ├──┼──┤\n",
      "      │ 3│ 3│\n",
      "      └──┴──┘\n",
      "      ┌──┬──┐\n",
      "      │ 2│ 2│\n",
      "      ├──┼──┤\n",
      "      │ 2│ 2│\n",
      "┌──┬──┼──┼──┼──┬──┬──┬──┐\n",
      "│ 0│ 3│ 1│ 4│ 3│ 0│ 4│ 1│\n",
      "├──┼──┼──┼──┼──┼──┼──┼──┤\n",
      "│ 3│ 3│ 1│ 1│ 0│ 0│ 4│ 4│\n",
      "└──┴──┼──┼──┼──┴──┴──┴──┘\n",
      "      │ 5│ 5│\n",
      "      ├──┼──┤\n",
      "      │ 5│ 5│\n",
      "      └──┴──┘\n",
      "      ┌──┬──┐\n",
      "      │ 0│ 0│\n",
      "      ├──┼──┤\n",
      "      │ 0│ 0│\n",
      "┌──┬──┼──┼──┼──┬──┬──┬──┐\n",
      "│ 1│ 4│ 2│ 5│ 4│ 1│ 5│ 2│\n",
      "├──┼──┼──┼──┼──┼──┼──┼──┤\n",
      "│ 4│ 4│ 2│ 2│ 1│ 1│ 5│ 5│\n",
      "└──┴──┼──┼──┼──┴──┴──┴──┘\n",
      "      │ 3│ 3│\n",
      "      ├──┼──┤\n",
      "      │ 3│ 3│\n",
      "      └──┴──┘\n"
     ]
    }
   ],
   "source": [
    "if __name__ == \"__main__\":\n",
    "  # get solved state\n",
    "  s = initState()\n",
    "  printCube(s)\n",
    "  # do some moves\n",
    "  s = doAlgStr(s, \"x y R U' R' U' F2 U' R U R' U F2\")\n",
    "  printCube(s)\n",
    "  # normalize stickers relative to DLB\n",
    "  s = normFC(s)\n",
    "  printCube(s)"
   ]
  },
  {
   "cell_type": "markdown",
   "metadata": {},
   "source": [
    "## Solving"
   ]
  },
  {
   "cell_type": "code",
   "execution_count": 21,
   "metadata": {},
   "outputs": [],
   "source": [
    "from __future__ import print_function\n",
    "import numpy as np"
   ]
  },
  {
   "cell_type": "code",
   "execution_count": 22,
   "metadata": {},
   "outputs": [],
   "source": [
    "hO = np.ones(729, dtype=int) * 12\n",
    "hP = np.ones(117649, dtype=int) * 12"
   ]
  },
  {
   "cell_type": "code",
   "execution_count": 23,
   "metadata": {},
   "outputs": [
    {
     "data": {
      "text/plain": [
       "(117649,)"
      ]
     },
     "execution_count": 23,
     "metadata": {},
     "output_type": "execute_result"
    }
   ],
   "source": [
    "hP.shape"
   ]
  },
  {
   "cell_type": "code",
   "execution_count": 24,
   "metadata": {},
   "outputs": [],
   "source": [
    "moveStrs = {0: \"U\", 1: \"U'\", 2: \"U2\", 3: \"R\", 4: \"R'\", 5: \"R2\", 6: \"F\", 7: \"F'\", 8: \"F2\"}"
   ]
  },
  {
   "cell_type": "code",
   "execution_count": 25,
   "metadata": {},
   "outputs": [],
   "source": [
    "# generate pruning table for the piece orientation states\n",
    "def genOTable(s, d, lm=-3):\n",
    "  index = indexO(getOP(s))\n",
    "  if d < hO[index]:\n",
    "    hO[index] = d\n",
    "    for m in range(9):\n",
    "      if int(m / 3) == int(lm / 3):\n",
    "        continue\n",
    "      genOTable(doMove(s, m), d + 1, m)"
   ]
  },
  {
   "cell_type": "code",
   "execution_count": 26,
   "metadata": {},
   "outputs": [],
   "source": [
    "# generate pruning table for the piece permutation states\n",
    "def genPTable(s, d, lm=-3):\n",
    "  index = indexP(getOP(s))\n",
    "  if d < hP[index]:\n",
    "    hP[index] = d\n",
    "    for m in range(9):\n",
    "      if int(m / 3) == int(lm / 3):\n",
    "        continue\n",
    "      genPTable(doMove(s, m), d + 1, m)"
   ]
  },
  {
   "cell_type": "code",
   "execution_count": 27,
   "metadata": {},
   "outputs": [],
   "source": [
    "# IDA* which prints all optimal solutions\n",
    "def IDAStar(s, d, moves, lm=-3):\n",
    "  if isSolved(s):\n",
    "    printMoves(moves)\n",
    "    return True\n",
    "  else:\n",
    "    sOP = getOP(s)\n",
    "    if d > 0 and d >= hO[indexO(sOP)] and d >= hP[indexP(sOP)]:\n",
    "      dOptimal = False\n",
    "      for m in range(9):\n",
    "        if int(m / 3) == int(lm / 3):\n",
    "          continue\n",
    "        newMoves = moves[:]; newMoves.append(m)\n",
    "        solved = IDAStar(doMove(s, m), d - 1, newMoves, m)\n",
    "        if solved and not dOptimal:\n",
    "          dOptimal = True\n",
    "      if dOptimal:\n",
    "        return True\n",
    "  return False"
   ]
  },
  {
   "cell_type": "code",
   "execution_count": 28,
   "metadata": {},
   "outputs": [],
   "source": [
    "# print a move sequence from an array of move indices\n",
    "def printMoves(moves):\n",
    "  moveStr = \"\"\n",
    "  for m in moves:\n",
    "    moveStr += moveStrs[m] + \" \"\n",
    "  print(moveStr)"
   ]
  },
  {
   "cell_type": "code",
   "execution_count": 37,
   "metadata": {},
   "outputs": [],
   "source": [
    "# solve a cube state\n",
    "def solveCube(s,maxlength):\n",
    "  # print cube state\n",
    "    printCube(s)\n",
    "\n",
    "  # FC-normalize stickers\n",
    "    print(\"normalizing stickers...\")\n",
    "    s = normFC(s)\n",
    "\n",
    "  # generate pruning tables\n",
    "    print(\"generating pruning tables...\")\n",
    "    genOTable(initState(), 0)\n",
    "    genPTable(initState(), 0)\n",
    "\n",
    "  # run IDA*\n",
    "    print(\"searching...\")\n",
    "    solved = False\n",
    "    depth = 1\n",
    "    while depth <= maxlength and not solved:\n",
    "        print(\"depth {}\".format(depth))\n",
    "        solved = IDAStar(s, depth, [])\n",
    "        depth += 1\n",
    "        \n",
    "    return(solved)\n",
    "        \n",
    "\n"
   ]
  },
  {
   "cell_type": "code",
   "execution_count": 38,
   "metadata": {},
   "outputs": [
    {
     "name": "stdout",
     "output_type": "stream",
     "text": [
      "      ┌──┬──┐\n",
      "      │ 2│ 3│\n",
      "      ├──┼──┤\n",
      "      │ 1│ 0│\n",
      "┌──┬──┼──┼──┼──┬──┬──┬──┐\n",
      "│ 1│ 3│ 5│ 4│ 2│ 2│ 4│ 3│\n",
      "├──┼──┼──┼──┼──┼──┼──┼──┤\n",
      "│ 4│ 2│ 0│ 0│ 4│ 1│ 0│ 5│\n",
      "└──┴──┼──┼──┼──┴──┴──┴──┘\n",
      "      │ 1│ 5│\n",
      "      ├──┼──┤\n",
      "      │ 3│ 5│\n",
      "      └──┴──┘\n",
      "normalizing stickers...\n",
      "generating pruning tables...\n",
      "searching...\n",
      "depth 1\n",
      "depth 2\n",
      "depth 3\n",
      "depth 4\n",
      "depth 5\n",
      "depth 6\n",
      "depth 7\n",
      "depth 8\n",
      "F R2 F' R U2 R2 F' R \n",
      "F R2 F' R' F R2 U2 R' \n"
     ]
    }
   ],
   "source": [
    "s = doAlgStr(initState(), \"R U2 R2 F2 R' F2 R F R\")\n",
    "a=solveCube(s,11)"
   ]
  },
  {
   "cell_type": "code",
   "execution_count": 54,
   "metadata": {},
   "outputs": [
    {
     "name": "stdout",
     "output_type": "stream",
     "text": [
      "      ┌──┬──┐\n",
      "      │ 2│ 3│\n",
      "      ├──┼──┤\n",
      "      │ 1│ 0│\n",
      "┌──┬──┼──┼──┼──┬──┬──┬──┐\n",
      "│ 1│ 3│ 5│ 4│ 2│ 2│ 4│ 3│\n",
      "├──┼──┼──┼──┼──┼──┼──┼──┤\n",
      "│ 4│ 2│ 0│ 0│ 4│ 1│ 0│ 5│\n",
      "└──┴──┼──┼──┼──┴──┴──┴──┘\n",
      "      │ 1│ 5│\n",
      "      ├──┼──┤\n",
      "      │ 3│ 5│\n",
      "      └──┴──┘\n",
      "normalizing stickers...\n",
      "generating pruning tables...\n",
      "searching...\n",
      "depth 1\n",
      "depth 2\n",
      "depth 3\n",
      "depth 4\n",
      "depth 5\n",
      "depth 6\n",
      "depth 7\n",
      "depth 8\n",
      "F R2 F' R U2 R2 F' R \n",
      "F R2 F' R' F R2 U2 R' \n"
     ]
    }
   ],
   "source": [
    "a=solveCube(s,9)"
   ]
  },
  {
   "cell_type": "code",
   "execution_count": 55,
   "metadata": {},
   "outputs": [
    {
     "data": {
      "text/plain": [
       "True"
      ]
     },
     "execution_count": 55,
     "metadata": {},
     "output_type": "execute_result"
    }
   ],
   "source": [
    "a"
   ]
  },
  {
   "cell_type": "code",
   "execution_count": null,
   "metadata": {},
   "outputs": [],
   "source": []
  },
  {
   "cell_type": "code",
   "execution_count": 32,
   "metadata": {},
   "outputs": [],
   "source": [
    "moves = ['F', 'F\\'', 'B', 'B\\'', 'R', 'R\\'', 'L', 'L\\'', 'D', 'D\\'', 'U', 'U\\'']\n",
    "\n",
    "def getRandomMove():\n",
    "    return moves[randint(0, len(moves) - 1)]"
   ]
  },
  {
   "cell_type": "code",
   "execution_count": 33,
   "metadata": {},
   "outputs": [],
   "source": [
    "def createScrambledCube(numScrambles):\n",
    "    cube = initState()\n",
    "    for i in range(numScrambles):\n",
    "        cube = doAlgStr(cube, getRandomMove())\n",
    "    return cube"
   ]
  },
  {
   "cell_type": "code",
   "execution_count": 85,
   "metadata": {},
   "outputs": [],
   "source": [
    "s = createScrambledCube(3)"
   ]
  },
  {
   "cell_type": "code",
   "execution_count": 87,
   "metadata": {},
   "outputs": [
    {
     "name": "stdout",
     "output_type": "stream",
     "text": [
      "      ┌──┬──┐\n",
      "      │ 0│ 5│\n",
      "      ├──┼──┤\n",
      "      │ 0│ 1│\n",
      "┌──┬──┼──┼──┼──┬──┬──┬──┐\n",
      "│ 5│ 5│ 4│ 0│ 2│ 1│ 3│ 1│\n",
      "├──┼──┼──┼──┼──┼──┼──┼──┤\n",
      "│ 3│ 5│ 4│ 4│ 2│ 0│ 2│ 1│\n",
      "└──┴──┼──┼──┼──┴──┴──┴──┘\n",
      "      │ 3│ 3│\n",
      "      ├──┼──┤\n",
      "      │ 2│ 4│\n",
      "      └──┴──┘\n",
      "normalizing stickers...\n",
      "generating pruning tables...\n",
      "searching...\n",
      "depth 1\n",
      "depth 2\n",
      "depth 3\n",
      "U' F R \n"
     ]
    }
   ],
   "source": [
    "a=solveCube(s,3)"
   ]
  },
  {
   "cell_type": "code",
   "execution_count": 84,
   "metadata": {},
   "outputs": [
    {
     "data": {
      "text/plain": [
       "True"
      ]
     },
     "execution_count": 84,
     "metadata": {},
     "output_type": "execute_result"
    }
   ],
   "source": [
    "a"
   ]
  },
  {
   "cell_type": "code",
   "execution_count": null,
   "metadata": {},
   "outputs": [],
   "source": [
    "def solveSingleCubeGreedy(cube, maxMoves):\n",
    "    numMovesTaken = 0\n",
    "    while numMovesTaken <= maxMoves:\n",
    "        if isSolved(cube):\n",
    "            return True, numMovesTaken\n",
    "        state = np.array([getState(cube).flatten()])\n",
    "        _, policies = model.predict(state)\n",
    "        policiesArray = policies[0]\n",
    "        bestMove = policiesArray.argmax()\n",
    "        cube = py222.doAlgStr(cube, moves[bestMove])\n",
    "        numMovesTaken += 1\n",
    "    return False, maxMoves+1"
   ]
  },
  {
   "cell_type": "code",
   "execution_count": null,
   "metadata": {},
   "outputs": [],
   "source": [
    "def simulateCubeSolvingGreedy(model, maxSolveDistance):\n",
    "    data = np.zeros(maxSolveDistance+1)\n",
    "    for currentSolveDistance in range(maxSolveDistance+1):\n",
    "        numSolved = 0\n",
    "        for j in range(10):\n",
    "            scrambledCube = createScrambledCube(currentSolveDistance)\n",
    "            result, numMoves = solveSingleCubeGreedy(model, scrambledCube, 6 * currentSolveDistance + 1)\n",
    "            print(numMoves, numMoves != 6*currentSolveDistance + 2)\n",
    "            if result:\n",
    "                numSolved += 1\n",
    "        percentageSolved = float(numSolved)/10\n",
    "        data[currentSolveDistance] = percentageSolved\n",
    "    print(data)"
   ]
  }
 ],
 "metadata": {
  "kernelspec": {
   "display_name": "Python 3",
   "language": "python",
   "name": "python3"
  },
  "language_info": {
   "codemirror_mode": {
    "name": "ipython",
    "version": 3
   },
   "file_extension": ".py",
   "mimetype": "text/x-python",
   "name": "python",
   "nbconvert_exporter": "python",
   "pygments_lexer": "ipython3",
   "version": "3.8.5"
  }
 },
 "nbformat": 4,
 "nbformat_minor": 4
}
